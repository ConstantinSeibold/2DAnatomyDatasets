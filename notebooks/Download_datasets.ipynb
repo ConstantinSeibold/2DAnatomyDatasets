{
 "cells": [
  {
   "cell_type": "markdown",
   "metadata": {},
   "source": [
    "# Getting Started with the datasets"
   ]
  },
  {
   "cell_type": "markdown",
   "metadata": {},
   "source": [
    "Download datasets to a ```.dataset``` folder:"
   ]
  },
  {
   "cell_type": "code",
   "execution_count": 11,
   "metadata": {},
   "outputs": [
    {
     "name": "stdout",
     "output_type": "stream",
     "text": [
      "  8%|███▏                                   | 7.86M/97.6M [00:07<02:13, 672kB/s]"
     ]
    }
   ],
   "source": [
    "import os \n",
    "os.chdir(\"..\")\n",
    "# Get Teeth \n",
    "!sh src/prepare_data/prepare_teeth_kaggle/get_teeth_full.sh\n",
    "# Get X-Ray\n",
    "!sh src/prepare_data/prepare_jsrt/get_jsrt_full.sh\n",
    "!sh src/prepare_data/prepare_paxray/get_paxray_full.sh\n",
    "# !sh src/prepare_data/prepare_paxraypp/get_paxraypp_full.sh\n",
    "# Get Eye\n",
    "!sh src/prepare_data/prepare_ravir/get_ravir_full.sh\n",
    "!sh src/prepare_data/prepare_duke/get_duke_full.sh\n",
    "# Get Bone-Scintygraphy\n",
    "!sh src/prepare_data/prepare_bs80k/get_bs80k_full.sh"
   ]
  },
  {
   "cell_type": "code",
   "execution_count": null,
   "metadata": {
    "vscode": {
     "languageId": "shellscript"
    }
   },
   "outputs": [],
   "source": [
    "ls ./datasets"
   ]
  },
  {
   "cell_type": "code",
   "execution_count": null,
   "metadata": {
    "vscode": {
     "languageId": "shellscript"
    }
   },
   "outputs": [],
   "source": [
    "ls ./datasets/paxray"
   ]
  },
  {
   "cell_type": "code",
   "execution_count": null,
   "metadata": {
    "vscode": {
     "languageId": "shellscript"
    }
   },
   "outputs": [],
   "source": []
  }
 ],
 "metadata": {
  "kernelspec": {
   "display_name": "openmmlab",
   "language": "python",
   "name": "python3"
  },
  "language_info": {
   "codemirror_mode": {
    "name": "ipython",
    "version": 3
   },
   "file_extension": ".py",
   "mimetype": "text/x-python",
   "name": "python",
   "nbconvert_exporter": "python",
   "pygments_lexer": "ipython3",
   "version": "3.11.10"
  }
 },
 "nbformat": 4,
 "nbformat_minor": 2
}
